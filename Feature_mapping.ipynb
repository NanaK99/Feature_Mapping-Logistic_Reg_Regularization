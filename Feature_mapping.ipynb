{
  "nbformat": 4,
  "nbformat_minor": 0,
  "metadata": {
    "colab": {
      "name": "Feature_mapping.ipynb",
      "provenance": [],
      "collapsed_sections": []
    },
    "kernelspec": {
      "name": "python3",
      "display_name": "Python 3"
    }
  },
  "cells": [
    {
      "cell_type": "markdown",
      "metadata": {
        "id": "8n1iM4DnYoqr",
        "colab_type": "text"
      },
      "source": [
        "#Feature mapping (increasing capacity of the model)"
      ]
    },
    {
      "cell_type": "markdown",
      "metadata": {
        "id": "bA2oAJgRKlam",
        "colab_type": "text"
      },
      "source": [
        "##Data"
      ]
    },
    {
      "cell_type": "code",
      "metadata": {
        "id": "o3LLBDLNEmPk",
        "colab_type": "code",
        "colab": {}
      },
      "source": [
        "import torch\n",
        "import matplotlib.pyplot as plt"
      ],
      "execution_count": 0,
      "outputs": []
    },
    {
      "cell_type": "code",
      "metadata": {
        "colab_type": "code",
        "id": "qHsQaNpOY1Ik",
        "colab": {}
      },
      "source": [
        "X = torch.tensor([0, 2, 4.5, 6, 6.5]).unsqueeze(1).float()\n",
        "y = torch.tensor([0, 5, 4.5, 6.6, 6]).unsqueeze(1).float()"
      ],
      "execution_count": 0,
      "outputs": []
    },
    {
      "cell_type": "code",
      "metadata": {
        "id": "sM2faRNT4liV",
        "colab_type": "code",
        "outputId": "dd388a55-f1d7-4225-975d-7646f770d918",
        "colab": {
          "base_uri": "https://localhost:8080/",
          "height": 33
        }
      },
      "source": [
        "X.shape\n"
      ],
      "execution_count": 0,
      "outputs": [
        {
          "output_type": "execute_result",
          "data": {
            "text/plain": [
              "torch.Size([5, 1])"
            ]
          },
          "metadata": {
            "tags": []
          },
          "execution_count": 3
        }
      ]
    },
    {
      "cell_type": "code",
      "metadata": {
        "id": "aUfLId9EICIu",
        "colab_type": "code",
        "outputId": "baff0d06-8cb5-43ad-b9c0-4c338cf3b5de",
        "colab": {
          "base_uri": "https://localhost:8080/",
          "height": 281
        }
      },
      "source": [
        "plt.scatter(X.numpy(), y, marker = 'x', color = 'red')"
      ],
      "execution_count": 0,
      "outputs": [
        {
          "output_type": "execute_result",
          "data": {
            "text/plain": [
              "<matplotlib.collections.PathCollection at 0x7f427e51a5c0>"
            ]
          },
          "metadata": {
            "tags": []
          },
          "execution_count": 4
        },
        {
          "output_type": "display_data",
          "data": {
            "image/png": "[encoded data removed]",
            "text/plain": [
              "<Figure size 432x288 with 1 Axes>"
            ]
          },
          "metadata": {
            "tags": []
          }
        }
      ]
    },
    {
      "cell_type": "markdown",
      "metadata": {
        "id": "XdXdH-f_chBb",
        "colab_type": "text"
      },
      "source": [
        "##Linar Regression"
      ]
    },
    {
      "cell_type": "markdown",
      "metadata": {
        "id": "StJaQeyJc-9m",
        "colab_type": "text"
      },
      "source": [
        "####Linear Regression implementation"
      ]
    },
    {
      "cell_type": "code",
      "metadata": {
        "id": "2d72IfwvxR8X",
        "colab_type": "code",
        "colab": {}
      },
      "source": [
        "def cost_fn(a, y):\n",
        "  m = y.numel()\n",
        "  J = torch.sum(torch.pow(a-y, 2))/2/m\n",
        "  return J"
      ],
      "execution_count": 0,
      "outputs": []
    },
    {
      "cell_type": "code",
      "metadata": {
        "id": "YzB2BHGzysCs",
        "colab_type": "code",
        "colab": {}
      },
      "source": [
        "def backward(X, a, y):\n",
        "  m = y.numel()\n",
        "  dw = (a-y).t()@X/ m\n",
        "  db = torch.sum(a-y)/m\n",
        "  return dw, db  "
      ],
      "execution_count": 0,
      "outputs": []
    },
    {
      "cell_type": "code",
      "metadata": {
        "id": "RS3EoqXd1Pvo",
        "colab_type": "code",
        "colab": {}
      },
      "source": [
        "def initialize_with_zeros(dim):\n",
        "  w = torch.zeros((1, dim))\n",
        "  b = torch.tensor([0.0])\n",
        "\n",
        "  return w, b"
      ],
      "execution_count": 0,
      "outputs": []
    },
    {
      "cell_type": "code",
      "metadata": {
        "id": "_BDfPwTWzKG7",
        "colab_type": "code",
        "colab": {}
      },
      "source": [
        "def model(X, w, b):  \n",
        "  return X@w.t() + b"
      ],
      "execution_count": 0,
      "outputs": []
    },
    {
      "cell_type": "code",
      "metadata": {
        "id": "7fRzkrNrDHZQ",
        "colab_type": "code",
        "colab": {}
      },
      "source": [
        "def predict(X, w, b):\n",
        "  y_predict = model(X, w, b)       \n",
        "        \n",
        "  return y_predict"
      ],
      "execution_count": 0,
      "outputs": []
    },
    {
      "cell_type": "code",
      "metadata": {
        "id": "j53-Vnzn8AQE",
        "colab_type": "code",
        "colab": {}
      },
      "source": [
        "def train(X, y, epochs, lr):\n",
        "  \n",
        "  J_history = []\n",
        "  w, b = initialize_with_zeros(X.shape[1])\n",
        "\n",
        "  for i in range(epochs):\n",
        "    a = model(X, w, b)  \n",
        "    J = cost_fn(a, y)\n",
        "    dw, db = backward(X, a, y)\n",
        "    w -= lr*dw\n",
        "    b -= lr*db\n",
        "    \n",
        "    # Recording the costs\n",
        "    if i % 1 == 0:\n",
        "      J_history.append(J)\n",
        "    \n",
        "    \n",
        "     \n",
        "  return w, b, J_history"
      ],
      "execution_count": 0,
      "outputs": []
    },
    {
      "cell_type": "markdown",
      "metadata": {
        "id": "fuE2DsBLeOfb",
        "colab_type": "text"
      },
      "source": [
        "####Fitting Linear Model"
      ]
    },
    {
      "cell_type": "code",
      "metadata": {
        "id": "pXtx7weYgms3",
        "colab_type": "code",
        "colab": {}
      },
      "source": [
        "#Defining the learning rate value and the number of epochs\n",
        "epochs = 100\n",
        "lr = 0.005"
      ],
      "execution_count": 0,
      "outputs": []
    },
    {
      "cell_type": "code",
      "metadata": {
        "id": "zcqzA-9LZTHf",
        "colab_type": "code",
        "colab": {}
      },
      "source": [
        "#Training the model\n",
        "w, b, J_h = train(X, y, epochs, lr)"
      ],
      "execution_count": 0,
      "outputs": []
    },
    {
      "cell_type": "code",
      "metadata": {
        "id": "E4qZTy8KfUzp",
        "colab_type": "code",
        "outputId": "40e0cf90-15c1-4f41-93ef-05b765db3591",
        "colab": {
          "base_uri": "https://localhost:8080/",
          "height": 33
        }
      },
      "source": [
        "#values of w, b, and the final error\n",
        "w, b, J_h[-1]"
      ],
      "execution_count": 0,
      "outputs": [
        {
          "output_type": "execute_result",
          "data": {
            "text/plain": [
              "(tensor([[1.0013]]), tensor([0.3409]), tensor(0.8082))"
            ]
          },
          "metadata": {
            "tags": []
          },
          "execution_count": 13
        }
      ]
    },
    {
      "cell_type": "code",
      "metadata": {
        "id": "i_Gdtu3OfYP0",
        "colab_type": "code",
        "outputId": "80767f32-5c38-482b-be30-119888eb0312",
        "colab": {
          "base_uri": "https://localhost:8080/",
          "height": 281
        }
      },
      "source": [
        "#Plotting the cost function\n",
        "plt.plot(J_h)"
      ],
      "execution_count": 0,
      "outputs": [
        {
          "output_type": "execute_result",
          "data": {
            "text/plain": [
              "[<matplotlib.lines.Line2D at 0x7f427b7faf28>]"
            ]
          },
          "metadata": {
            "tags": []
          },
          "execution_count": 14
        },
        {
          "output_type": "display_data",
          "data": {
            "image/png": "[encoded data removed]",
            "text/plain": [
              "<Figure size 432x288 with 1 Axes>"
            ]
          },
          "metadata": {
            "tags": []
          }
        }
      ]
    },
    {
      "cell_type": "code",
      "metadata": {
        "id": "L2xJROkSg9iu",
        "colab_type": "code",
        "outputId": "e60627c7-c90c-493c-aafd-236cdae36537",
        "colab": {
          "base_uri": "https://localhost:8080/",
          "height": 281
        }
      },
      "source": [
        "plt.scatter(X, y, marker = 'x', color = 'red')\n",
        "plt.plot(X, X@w.t()+b)"
      ],
      "execution_count": 0,
      "outputs": [
        {
          "output_type": "execute_result",
          "data": {
            "text/plain": [
              "[<matplotlib.lines.Line2D at 0x7f427b7c1fd0>]"
            ]
          },
          "metadata": {
            "tags": []
          },
          "execution_count": 15
        },
        {
          "output_type": "display_data",
          "data": {
            "image/png": "[encoded data removed]",
            "text/plain": [
              "<Figure size 432x288 with 1 Axes>"
            ]
          },
          "metadata": {
            "tags": []
          }
        }
      ]
    },
    {
      "cell_type": "markdown",
      "metadata": {
        "id": "5DlxSrDDjVNy",
        "colab_type": "text"
      },
      "source": [
        "##Polynomial Regression"
      ]
    },
    {
      "cell_type": "markdown",
      "metadata": {
        "id": "uI1H86StYX3D",
        "colab_type": "text"
      },
      "source": [
        "###Feature Mapping"
      ]
    },
    {
      "cell_type": "code",
      "metadata": {
        "colab_type": "code",
        "id": "rNoZewqfTRXW",
        "colab": {}
      },
      "source": [
        "#variable that defines the degree of a polynomial. For now I will start with degree = 2\n",
        "degree = 2"
      ],
      "execution_count": 0,
      "outputs": []
    },
    {
      "cell_type": "code",
      "metadata": {
        "colab_type": "code",
        "id": "--7zkj5eTRXb",
        "colab": {}
      },
      "source": [
        "#featureMap creates new features x^i\n",
        "def featureMap(X, degree):\n",
        "  X_p = []\n",
        "  for i in range (1, degree+1):\n",
        "    tempo = (X.pow(i))\n",
        "    X_p.append(tempo)\n",
        "  X_p = torch.stack(X_p, dim = 1)\n",
        "  return X_p"
      ],
      "execution_count": 0,
      "outputs": []
    },
    {
      "cell_type": "code",
      "metadata": {
        "id": "mUlPBFISTak_",
        "colab_type": "code",
        "colab": {}
      },
      "source": [
        "X_p = featureMap(X[:,0], degree)"
      ],
      "execution_count": 0,
      "outputs": []
    },
    {
      "cell_type": "code",
      "metadata": {
        "id": "Eu9RhrX6Xxyo",
        "colab_type": "code",
        "outputId": "b4976abf-c1b5-4b02-d491-8899c7c9034c",
        "colab": {
          "base_uri": "https://localhost:8080/",
          "height": 33
        }
      },
      "source": [
        "X_p.shape"
      ],
      "execution_count": 0,
      "outputs": [
        {
          "output_type": "execute_result",
          "data": {
            "text/plain": [
              "torch.Size([5, 2])"
            ]
          },
          "metadata": {
            "tags": []
          },
          "execution_count": 19
        }
      ]
    },
    {
      "cell_type": "code",
      "metadata": {
        "id": "mwvZ_ycYI07w",
        "colab_type": "code",
        "outputId": "62bd9713-cfc2-489e-bb69-e4237565baca",
        "colab": {
          "base_uri": "https://localhost:8080/",
          "height": 98
        }
      },
      "source": [
        "X_p"
      ],
      "execution_count": 0,
      "outputs": [
        {
          "output_type": "execute_result",
          "data": {
            "text/plain": [
              "tensor([[ 0.0000,  0.0000],\n",
              "        [ 2.0000,  4.0000],\n",
              "        [ 4.5000, 20.2500],\n",
              "        [ 6.0000, 36.0000],\n",
              "        [ 6.5000, 42.2500]])"
            ]
          },
          "metadata": {
            "tags": []
          },
          "execution_count": 20
        }
      ]
    },
    {
      "cell_type": "markdown",
      "metadata": {
        "id": "eER9JtJcuurQ",
        "colab_type": "text"
      },
      "source": [
        "####fitting the model"
      ]
    },
    {
      "cell_type": "code",
      "metadata": {
        "colab_type": "code",
        "id": "9fUWEv0lvE_q",
        "colab": {}
      },
      "source": [
        "#Defining the learning rate value and the number of epochs\n",
        "epochs = 5000\n",
        "lr = 0.0005"
      ],
      "execution_count": 0,
      "outputs": []
    },
    {
      "cell_type": "code",
      "metadata": {
        "colab_type": "code",
        "id": "Fd59_sEHu7Un",
        "colab": {}
      },
      "source": [
        "#Training the model\n",
        "w, b, J_h = train(X_p, y, epochs, lr)"
      ],
      "execution_count": 0,
      "outputs": []
    },
    {
      "cell_type": "code",
      "metadata": {
        "colab_type": "code",
        "outputId": "61cd1b4d-a4e8-4bbc-f222-78be479079f4",
        "id": "Ebjty5FPu7Uq",
        "colab": {
          "base_uri": "https://localhost:8080/",
          "height": 33
        }
      },
      "source": [
        "#values of w, b, and the final error\n",
        "w, b, J_h[-1]"
      ],
      "execution_count": 0,
      "outputs": [
        {
          "output_type": "execute_result",
          "data": {
            "text/plain": [
              "(tensor([[ 1.5594, -0.1132]]), tensor([0.7781]), tensor(0.4342))"
            ]
          },
          "metadata": {
            "tags": []
          },
          "execution_count": 23
        }
      ]
    },
    {
      "cell_type": "code",
      "metadata": {
        "id": "bsUgPLC7u3LT",
        "colab_type": "code",
        "outputId": "9d413ac6-28de-4b7e-ac1c-eb961d403425",
        "colab": {
          "base_uri": "https://localhost:8080/",
          "height": 281
        }
      },
      "source": [
        "plt.plot(J_h)"
      ],
      "execution_count": 0,
      "outputs": [
        {
          "output_type": "execute_result",
          "data": {
            "text/plain": [
              "[<matplotlib.lines.Line2D at 0x7f427b6a8d68>]"
            ]
          },
          "metadata": {
            "tags": []
          },
          "execution_count": 24
        },
        {
          "output_type": "display_data",
          "data": {
            "image/png": "[encoded data removed]",
            "text/plain": [
              "<Figure size 432x288 with 1 Axes>"
            ]
          },
          "metadata": {
            "tags": []
          }
        }
      ]
    },
    {
      "cell_type": "code",
      "metadata": {
        "colab_type": "code",
        "outputId": "ec79bf9e-21a8-4b34-b5bd-38576f436358",
        "id": "BSzdi61Tvzzw",
        "colab": {
          "base_uri": "https://localhost:8080/",
          "height": 281
        }
      },
      "source": [
        "#Plotting our data\n",
        "plt.scatter(X[:,0], y, marker = 'x', color = 'red')\n",
        "plt.plot(X[:,0], X_p@w.t() + b)"
      ],
      "execution_count": 0,
      "outputs": [
        {
          "output_type": "execute_result",
          "data": {
            "text/plain": [
              "[<matplotlib.lines.Line2D at 0x7f427b7c19b0>]"
            ]
          },
          "metadata": {
            "tags": []
          },
          "execution_count": 25
        },
        {
          "output_type": "display_data",
          "data": {
            "image/png": "[encoded data removed]",
            "text/plain": [
              "<Figure size 432x288 with 1 Axes>"
            ]
          },
          "metadata": {
            "tags": []
          }
        }
      ]
    },
    {
      "cell_type": "markdown",
      "metadata": {
        "id": "zZEHqwm24viV",
        "colab_type": "text"
      },
      "source": [
        "####Alternative way to plot the hypothesis function $\\hat y$"
      ]
    },
    {
      "cell_type": "code",
      "metadata": {
        "colab_type": "code",
        "id": "D2NnTTIOvzzi",
        "colab": {}
      },
      "source": [
        "#Selecting the min and max values of the range where values of X are scattered\n",
        "x_min = torch.min(X[:,0])\n",
        "x_max = torch.max(X[:,0])"
      ],
      "execution_count": 0,
      "outputs": []
    },
    {
      "cell_type": "code",
      "metadata": {
        "id": "w6ssoyNE7CM8",
        "colab_type": "code",
        "colab": {}
      },
      "source": [
        "xx = torch.arange(x_min, x_max+0.1, step = 0.3)"
      ],
      "execution_count": 0,
      "outputs": []
    },
    {
      "cell_type": "code",
      "metadata": {
        "id": "4KrbIFNr_4Rj",
        "colab_type": "code",
        "colab": {}
      },
      "source": [
        "xx_p = featureMap(xx, degree)"
      ],
      "execution_count": 0,
      "outputs": []
    },
    {
      "cell_type": "code",
      "metadata": {
        "colab_type": "code",
        "id": "3CZ95ZV4vzzv",
        "colab": {}
      },
      "source": [
        "preds= xx_p@w.t()+b  "
      ],
      "execution_count": 0,
      "outputs": []
    },
    {
      "cell_type": "code",
      "metadata": {
        "id": "kmXALup-8tbO",
        "colab_type": "code",
        "outputId": "d342c60e-c6f1-4c55-d07e-bf30dbbbfce0",
        "colab": {
          "base_uri": "https://localhost:8080/",
          "height": 281
        }
      },
      "source": [
        "plt.scatter(X.numpy(), y, marker = 'x', color = 'red')\n",
        "plt.plot(xx, preds)"
      ],
      "execution_count": 0,
      "outputs": [
        {
          "output_type": "execute_result",
          "data": {
            "text/plain": [
              "[<matplotlib.lines.Line2D at 0x7f427b7c1710>]"
            ]
          },
          "metadata": {
            "tags": []
          },
          "execution_count": 30
        },
        {
          "output_type": "display_data",
          "data": {
            "image/png": "[encoded data removed]",
            "text/plain": [
              "<Figure size 432x288 with 1 Axes>"
            ]
          },
          "metadata": {
            "tags": []
          }
        }
      ]
    },
    {
      "cell_type": "markdown",
      "metadata": {
        "id": "0qD2UojaYTWH",
        "colab_type": "text"
      },
      "source": [
        "###Feature Scaling"
      ]
    },
    {
      "cell_type": "code",
      "metadata": {
        "id": "-PbJsSBGmwxm",
        "colab_type": "code",
        "colab": {}
      },
      "source": [
        "def featureNormalize(X):\n",
        "  mu = torch.mean(X, dim = 0).unsqueeze(0)  \n",
        "  std = torch.std(X, dim = 0).unsqueeze(0)\n",
        "  X_norm = (X - mu)/std\n",
        "  return X_norm, mu, std"
      ],
      "execution_count": 0,
      "outputs": []
    },
    {
      "cell_type": "code",
      "metadata": {
        "id": "8NRWNXTRYYH0",
        "colab_type": "code",
        "colab": {}
      },
      "source": [
        "X_norm, mu, std = featureNormalize(X_p)"
      ],
      "execution_count": 0,
      "outputs": []
    },
    {
      "cell_type": "code",
      "metadata": {
        "id": "YmiOnVcqG4jk",
        "colab_type": "code",
        "colab": {}
      },
      "source": [
        "epochs = 100\n",
        "lr = 1"
      ],
      "execution_count": 0,
      "outputs": []
    },
    {
      "cell_type": "code",
      "metadata": {
        "id": "GBFqolOKYeKr",
        "colab_type": "code",
        "colab": {}
      },
      "source": [
        "w, b, J_h = train(X_norm, y, epochs, lr)"
      ],
      "execution_count": 0,
      "outputs": []
    },
    {
      "cell_type": "code",
      "metadata": {
        "colab_type": "code",
        "outputId": "74316a3f-98a4-4d64-c689-0cb050dab73f",
        "id": "yfZpcnRlHK10",
        "colab": {
          "base_uri": "https://localhost:8080/",
          "height": 33
        }
      },
      "source": [
        "#values of w, b, and the final error\n",
        "w, b, J_h[-1]"
      ],
      "execution_count": 0,
      "outputs": [
        {
          "output_type": "execute_result",
          "data": {
            "text/plain": [
              "(tensor([[ 5.2031, -3.0469]]), tensor([4.4200]), tensor(0.3958))"
            ]
          },
          "metadata": {
            "tags": []
          },
          "execution_count": 35
        }
      ]
    },
    {
      "cell_type": "code",
      "metadata": {
        "colab_type": "code",
        "outputId": "8b703329-cba8-42f8-85b3-b148a843960d",
        "id": "lnGZ5aJNHK16",
        "colab": {
          "base_uri": "https://localhost:8080/",
          "height": 281
        }
      },
      "source": [
        "plt.plot(J_h)"
      ],
      "execution_count": 0,
      "outputs": [
        {
          "output_type": "execute_result",
          "data": {
            "text/plain": [
              "[<matplotlib.lines.Line2D at 0x7f427b74b4a8>]"
            ]
          },
          "metadata": {
            "tags": []
          },
          "execution_count": 36
        },
        {
          "output_type": "display_data",
          "data": {
            "image/png": "[encoded data removed]",
            "text/plain": [
              "<Figure size 432x288 with 1 Axes>"
            ]
          },
          "metadata": {
            "tags": []
          }
        }
      ]
    },
    {
      "cell_type": "code",
      "metadata": {
        "colab_type": "code",
        "outputId": "97e141da-3296-438f-ff02-d7efbaeb63ef",
        "id": "SEV0901nHK18",
        "colab": {
          "base_uri": "https://localhost:8080/",
          "height": 281
        }
      },
      "source": [
        "#let's plot\n",
        "plt.scatter(X[:,0], y, marker = 'x', color = 'red')\n",
        "plt.plot(X[:,0], X_norm@w.t() + b)\n"
      ],
      "execution_count": 0,
      "outputs": [
        {
          "output_type": "execute_result",
          "data": {
            "text/plain": [
              "[<matplotlib.lines.Line2D at 0x7f427b6dd390>]"
            ]
          },
          "metadata": {
            "tags": []
          },
          "execution_count": 37
        },
        {
          "output_type": "display_data",
          "data": {
            "image/png": "[encoded data removed]",
            "text/plain": [
              "<Figure size 432x288 with 1 Axes>"
            ]
          },
          "metadata": {
            "tags": []
          }
        }
      ]
    },
    {
      "cell_type": "markdown",
      "metadata": {
        "id": "z8W-k2XrKscC",
        "colab_type": "text"
      },
      "source": [
        "###Polynomial regression of higher degree"
      ]
    },
    {
      "cell_type": "markdown",
      "metadata": {
        "id": "m0MHBJw2Kwma",
        "colab_type": "text"
      },
      "source": [
        "Experimenting with polynomials of higher degree, say degree = 6."
      ]
    },
    {
      "cell_type": "code",
      "metadata": {
        "id": "iBxTVv-tLAsG",
        "colab_type": "code",
        "colab": {}
      },
      "source": [
        "degree = 6"
      ],
      "execution_count": 0,
      "outputs": []
    },
    {
      "cell_type": "code",
      "metadata": {
        "id": "r5kvJVybLDGL",
        "colab_type": "code",
        "colab": {}
      },
      "source": [
        "# applying feature Map to X\n",
        "X_p1 = featureMap(X[:,0], degree)"
      ],
      "execution_count": 0,
      "outputs": []
    },
    {
      "cell_type": "code",
      "metadata": {
        "id": "T86wQd1vMUxb",
        "colab_type": "code",
        "outputId": "fc135729-882d-4b90-d1b1-2defaab752eb",
        "colab": {
          "base_uri": "https://localhost:8080/",
          "height": 33
        }
      },
      "source": [
        "X_p1.shape"
      ],
      "execution_count": 0,
      "outputs": [
        {
          "output_type": "execute_result",
          "data": {
            "text/plain": [
              "torch.Size([5, 2])"
            ]
          },
          "metadata": {
            "tags": []
          },
          "execution_count": 40
        }
      ]
    },
    {
      "cell_type": "code",
      "metadata": {
        "id": "oAPcDCGjLWgj",
        "colab_type": "code",
        "colab": {}
      },
      "source": [
        "X_norm1, mu, std = featureNormalize(X_p1)"
      ],
      "execution_count": 0,
      "outputs": []
    },
    {
      "cell_type": "code",
      "metadata": {
        "colab_type": "code",
        "id": "mdoglDHULq03",
        "colab": {}
      },
      "source": [
        "epochs = 40000\n",
        "lr = 0.43"
      ],
      "execution_count": 0,
      "outputs": []
    },
    {
      "cell_type": "code",
      "metadata": {
        "id": "eQrt7EzmLfwx",
        "colab_type": "code",
        "colab": {}
      },
      "source": [
        "#train the model\n",
        "w, b, J_h = train(X_norm1, y, epochs, lr)"
      ],
      "execution_count": 0,
      "outputs": []
    },
    {
      "cell_type": "code",
      "metadata": {
        "id": "awoHw8-lL_hh",
        "colab_type": "code",
        "outputId": "249d9ff7-80bb-4e9a-bd87-e56095ff7496",
        "colab": {
          "base_uri": "https://localhost:8080/",
          "height": 33
        }
      },
      "source": [
        "w, b, J_h[-1]"
      ],
      "execution_count": 0,
      "outputs": [
        {
          "output_type": "execute_result",
          "data": {
            "text/plain": [
              "(tensor([[ 5.6102, -3.4540]]), tensor([4.4200]), tensor(0.3917))"
            ]
          },
          "metadata": {
            "tags": []
          },
          "execution_count": 44
        }
      ]
    },
    {
      "cell_type": "code",
      "metadata": {
        "id": "LYbodpXbLwVt",
        "colab_type": "code",
        "outputId": "4ab5bdbd-8f56-48c8-f5e0-37543f284efc",
        "colab": {
          "base_uri": "https://localhost:8080/",
          "height": 281
        }
      },
      "source": [
        "plt.plot(J_h)"
      ],
      "execution_count": 0,
      "outputs": [
        {
          "output_type": "execute_result",
          "data": {
            "text/plain": [
              "[<matplotlib.lines.Line2D at 0x7f427b218c88>]"
            ]
          },
          "metadata": {
            "tags": []
          },
          "execution_count": 45
        },
        {
          "output_type": "display_data",
          "data": {
            "image/png": "[encoded data removed]",
            "text/plain": [
              "<Figure size 432x288 with 1 Axes>"
            ]
          },
          "metadata": {
            "tags": []
          }
        }
      ]
    },
    {
      "cell_type": "markdown",
      "metadata": {
        "id": "RUuOEsEBJQ7g",
        "colab_type": "text"
      },
      "source": [
        "####Plot the hypothesis function"
      ]
    },
    {
      "cell_type": "markdown",
      "metadata": {
        "id": "z6mhfAE0goRO",
        "colab_type": "text"
      },
      "source": [
        "Let's plot using the alternative method to get smooth curvature"
      ]
    },
    {
      "cell_type": "code",
      "metadata": {
        "id": "8niLH3-wmFUT",
        "colab_type": "code",
        "colab": {}
      },
      "source": [
        "# define x values\n",
        "x = torch.arange(torch.min(X[:,0])-0.1, torch.max(X[:,0]+0.1), 0.1).unsqueeze(1)"
      ],
      "execution_count": 0,
      "outputs": []
    },
    {
      "cell_type": "code",
      "metadata": {
        "id": "UTQrL2w0SQas",
        "colab_type": "code",
        "colab": {}
      },
      "source": [
        "x_p = featureMap(x[:,0], degree)"
      ],
      "execution_count": 0,
      "outputs": []
    },
    {
      "cell_type": "code",
      "metadata": {
        "id": "7s94mIn_bKP9",
        "colab_type": "code",
        "colab": {}
      },
      "source": [
        "#since we've applied feature scaling to initial data set, we need to normalize also values x_p\n",
        "x_norm = (x_p-mu)/std"
      ],
      "execution_count": 0,
      "outputs": []
    },
    {
      "cell_type": "code",
      "metadata": {
        "id": "JYipuRw3qvVB",
        "colab_type": "code",
        "colab": {}
      },
      "source": [
        "#calculate predictions\n",
        "preds = x_norm@w.t()+b"
      ],
      "execution_count": 0,
      "outputs": []
    },
    {
      "cell_type": "code",
      "metadata": {
        "id": "-PXC2FBfnyMf",
        "colab_type": "code",
        "outputId": "85ca738a-1181-4bc3-fd27-dc743c5046d9",
        "colab": {
          "base_uri": "https://localhost:8080/",
          "height": 281
        }
      },
      "source": [
        "#let's plot our data\n",
        "plt.scatter(X, y, marker = 'x', color = 'red')\n",
        "plt.plot(x, preds)"
      ],
      "execution_count": 0,
      "outputs": [
        {
          "output_type": "execute_result",
          "data": {
            "text/plain": [
              "[<matplotlib.lines.Line2D at 0x7f427b1e4d30>]"
            ]
          },
          "metadata": {
            "tags": []
          },
          "execution_count": 50
        },
        {
          "output_type": "display_data",
          "data": {
            "image/png": "[encoded data removed]",
            "text/plain": [
              "<Figure size 432x288 with 1 Axes>"
            ]
          },
          "metadata": {
            "tags": []
          }
        }
      ]
    }
  ]
}