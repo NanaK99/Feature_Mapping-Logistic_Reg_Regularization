{
  "nbformat": 4,
  "nbformat_minor": 0,
  "metadata": {
    "colab": {
      "name": "Logistic_Regularization.ipynb",
      "provenance": [],
      "collapsed_sections": []
    },
    "kernelspec": {
      "name": "python3",
      "display_name": "Python 3"
    }
  },
  "cells": [
    {
      "cell_type": "markdown",
      "metadata": {
        "id": "uDlmt-JjrNq_",
        "colab_type": "text"
      },
      "source": [
        "###Loading and preprocessing the data"
      ]
    },
    {
      "cell_type": "code",
      "metadata": {
        "id": "ZOIDq8otq40R",
        "colab_type": "code",
        "outputId": "6e8875fa-69d9-4465-9f83-c6c69d062ccd",
        "colab": {
          "base_uri": "https://localhost:8080/",
          "height": 33
        }
      },
      "source": [
        "from google.colab import drive\n",
        "drive.mount('/content/drive')"
      ],
      "execution_count": 0,
      "outputs": [
        {
          "output_type": "stream",
          "text": [
            "Drive already mounted at /content/drive; to attempt to forcibly remount, call drive.mount(\"/content/drive\", force_remount=True).\n"
          ],
          "name": "stdout"
        }
      ]
    },
    {
      "cell_type": "code",
      "metadata": {
        "id": "8ljJGzNSr4vJ",
        "colab_type": "code",
        "colab": {}
      },
      "source": [
        "import torch\n",
        "import pandas as pd\n",
        "import matplotlib.pyplot as plt\n",
        "import numpy as np"
      ],
      "execution_count": 0,
      "outputs": []
    },
    {
      "cell_type": "code",
      "metadata": {
        "id": "dJRBBUQls5FF",
        "colab_type": "code",
        "colab": {}
      },
      "source": [
        "#read data from file\n",
        "data = pd.read_csv('/content/drive/My Drive/Deep Learning/DL_HW3/ex2data2.txt', header = None)"
      ],
      "execution_count": 0,
      "outputs": []
    },
    {
      "cell_type": "code",
      "metadata": {
        "id": "5a_ep8q9uuwO",
        "colab_type": "code",
        "colab": {}
      },
      "source": [
        "#convert data to a torch tensor\n",
        "data = torch.tensor(data.values).float()"
      ],
      "execution_count": 0,
      "outputs": []
    },
    {
      "cell_type": "code",
      "metadata": {
        "id": "ndW7ub8SCEP2",
        "colab_type": "code",
        "colab": {}
      },
      "source": [
        "#Splitting the data to 'inputs'(X) and 'lables'(y)\n",
        "X = data[:,:2]\n",
        "y = data[:,2].unsqueeze(1)"
      ],
      "execution_count": 0,
      "outputs": []
    },
    {
      "cell_type": "markdown",
      "metadata": {
        "id": "NLFJnPDivF-G",
        "colab_type": "text"
      },
      "source": [
        "###Visualizing the data"
      ]
    },
    {
      "cell_type": "code",
      "metadata": {
        "id": "HywOldbBvbi-",
        "colab_type": "code",
        "colab": {}
      },
      "source": [
        "def plotData(X, y):\n",
        "    plt.scatter(X[:,0][y[:,0]==0], X[:,1][y[:,0]==0], marker = 'x', color = 'red')\n",
        "    plt.scatter(X[:,0][y[:,0]==1], X[:,1][y[:,0]==1], marker = 'o', color = 'green', alpha = 0.6)\n",
        "    plt.xlabel('Microchip test_1')\n",
        "    plt.ylabel('Microchip test_2')\n",
        "    plt.show"
      ],
      "execution_count": 0,
      "outputs": []
    },
    {
      "cell_type": "code",
      "metadata": {
        "id": "TferyJzIUc9x",
        "colab_type": "code",
        "outputId": "05bcc305-edd9-40d6-cd95-31e947e4f6d7",
        "colab": {
          "base_uri": "https://localhost:8080/",
          "height": 280
        }
      },
      "source": [
        "plotData(X, y)"
      ],
      "execution_count": 0,
      "outputs": [
        {
          "output_type": "display_data",
          "data": {
            "image/png": "[encoded data removed]",
            "text/plain": [
              "<Figure size 432x288 with 1 Axes>"
            ]
          },
          "metadata": {
            "tags": []
          }
        }
      ]
    },
    {
      "cell_type": "markdown",
      "metadata": {
        "id": "uI1H86StYX3D",
        "colab_type": "text"
      },
      "source": [
        "###Feature mapping"
      ]
    },
    {
      "cell_type": "code",
      "metadata": {
        "id": "m4CB3FPI0RRu",
        "colab_type": "code",
        "colab": {}
      },
      "source": [
        "degree = 14"
      ],
      "execution_count": 0,
      "outputs": []
    },
    {
      "cell_type": "code",
      "metadata": {
        "id": "l-9dv59BYwWp",
        "colab_type": "code",
        "colab": {}
      },
      "source": [
        "def featureMap(X1, X2, degree):\n",
        "  X_out = []\n",
        "  for i in range (1, degree+1):\n",
        "    for j in range (i+1):\n",
        "      tempo = (X1.pow(i-j)*X2.pow(j))\n",
        "      X_out.append(tempo)\n",
        "  X_out = torch.stack(X_out)\n",
        "  return X_out.t()"
      ],
      "execution_count": 0,
      "outputs": []
    },
    {
      "cell_type": "code",
      "metadata": {
        "id": "1c8faoYLGlOh",
        "colab_type": "code",
        "colab": {}
      },
      "source": [
        "# Applying feature mapping to our data set\n",
        "X_out = featureMap(X[:, 0], X[:,1], degree)"
      ],
      "execution_count": 0,
      "outputs": []
    },
    {
      "cell_type": "code",
      "metadata": {
        "id": "fSWTrgP6u84S",
        "colab_type": "code",
        "colab": {}
      },
      "source": [
        "def cost_fn(a, y, w, Lambda):\n",
        "  m = y.numel()\n",
        "  J = (-1/m) * ((y.t() @ torch.log(a) + (1 - y).t() @ torch.log(1 - a))) + (Lambda/(2*m) * w@w.t())\n",
        "  \n",
        "  return J"
      ],
      "execution_count": 0,
      "outputs": []
    },
    {
      "cell_type": "code",
      "metadata": {
        "id": "a9y7SvZQPKd-",
        "colab_type": "code",
        "colab": {}
      },
      "source": [
        "def backward(X, a, y, w, Lambda):\n",
        "  m = y.numel()\n",
        "  dw = 1/m * ((a - y).t() @ X) + (Lambda * (1/m) * w)\n",
        "  db = 1/m * (a - y).sum()\n",
        "\n",
        "  return dw, db \n"
      ],
      "execution_count": 0,
      "outputs": []
    },
    {
      "cell_type": "markdown",
      "metadata": {
        "id": "Ekd5u5wRb-i5",
        "colab_type": "text"
      },
      "source": [
        "###Helper functions"
      ]
    },
    {
      "cell_type": "code",
      "metadata": {
        "colab_type": "code",
        "id": "LhSbBDG_aqx3",
        "colab": {}
      },
      "source": [
        "def sigmoid(z):\n",
        "  s = 1/(1+torch.exp(-z))\n",
        "  return s"
      ],
      "execution_count": 0,
      "outputs": []
    },
    {
      "cell_type": "code",
      "metadata": {
        "id": "8ED12G8C2J5u",
        "colab_type": "code",
        "colab": {}
      },
      "source": [
        "def initialize_with_zeros(dim):\n",
        "  w = torch.zeros((1, dim))\n",
        "  b = torch.tensor([0.0])\n",
        "  \n",
        "  assert(w.shape == (1, dim))\n",
        "    \n",
        "  return w, b"
      ],
      "execution_count": 0,
      "outputs": []
    },
    {
      "cell_type": "code",
      "metadata": {
        "id": "gohyvUBkBqK_",
        "colab_type": "code",
        "colab": {}
      },
      "source": [
        "def model(X, w, b):\n",
        "  z = X@w.t() + b\n",
        "  return sigmoid(z)"
      ],
      "execution_count": 0,
      "outputs": []
    },
    {
      "cell_type": "code",
      "metadata": {
        "id": "99xnCSfUBOnk",
        "colab_type": "code",
        "colab": {}
      },
      "source": [
        "# zGeneration function calculates predictions for each point of (xx, yy) meshgrid.\n",
        "def zGeneration(x, y, w, b, degree):  \n",
        "  assert x.shape == y.shape  \n",
        "  z = torch.zeros_like(x)\n",
        "  \n",
        "  for i in range(x.shape[0]):\n",
        "    for j in range(x.shape[1]):\n",
        "      z[i,j] = featureMap(x[i,j], y[i,j], degree)@w.t() + b\n",
        "      \n",
        "  return z"
      ],
      "execution_count": 0,
      "outputs": []
    },
    {
      "cell_type": "code",
      "metadata": {
        "id": "QcEdS2Jws1eF",
        "colab_type": "code",
        "colab": {}
      },
      "source": [
        "def zGenerationV(x, y, w, b, degree): \n",
        "  assert x.shape == y.shape\n",
        "  x.flatten()\n",
        "  y.flatten() \n",
        "  m = featureMap(x,y,degree)\n",
        "  z= m@w.t() + b \n",
        "\n",
        "  return z  \n",
        "\n",
        "#I needed to convert the matrix to a vector, as the featureMap function admits only vectors and scalars.   "
      ],
      "execution_count": 0,
      "outputs": []
    },
    {
      "cell_type": "code",
      "metadata": {
        "id": "we5ovp20adeL",
        "colab_type": "code",
        "colab": {}
      },
      "source": [
        "def plot_decision_boundary(X):\n",
        "  step = 0.05\n",
        "\n",
        "  x_min, x_max = torch.min(X[:,0])-1, torch.max(X[:,0])+1\n",
        "  y_min, y_max = torch.min(X[:,1])-1, torch.max(X[:,1])+1\n",
        "\n",
        "  xRange = torch.arange(x_min, x_max, step)\n",
        "  yRange = torch.arange(y_min, y_max, step)\n",
        "\n",
        "  xx, yy = torch.meshgrid(xRange, yRange)\n",
        "\n",
        "  zz = zGeneration(xx, yy, w, b, degree)\n",
        "\n",
        "  plt.scatter(X[:,0][y[:,0]==0], X[:,1][y[:,0]==0], marker = 'x', color = 'red', label=\"Rejected\")\n",
        "  plt.scatter(X[:,0][y[:,0]==1], X[:,1][y[:,0]==1], marker = 'o', color = 'green', alpha = 0.6, label=\"Admitted\")\n",
        "  ax = plt.gca() # gets the current Axes instance on the current figure\n",
        "  ax.autoscale(False)\n",
        "  plt.contour(xx, yy, zz, levels = [0])\n",
        "  plt.legend(loc = 0)"
      ],
      "execution_count": 0,
      "outputs": []
    },
    {
      "cell_type": "markdown",
      "metadata": {
        "id": "pZJO4GKXrfU6",
        "colab_type": "text"
      },
      "source": [
        "###Training the model"
      ]
    },
    {
      "cell_type": "code",
      "metadata": {
        "id": "Yt561jjB-yVe",
        "colab_type": "code",
        "colab": {}
      },
      "source": [
        "lr = 0.05\n",
        "epochs = 300000"
      ],
      "execution_count": 0,
      "outputs": []
    },
    {
      "cell_type": "code",
      "metadata": {
        "id": "j53-Vnzn8AQE",
        "colab_type": "code",
        "colab": {}
      },
      "source": [
        "def train (X, y, lr, epochs, Lambda = 0):\n",
        "  m = y.numel()\n",
        "  \n",
        "  J_history = []\n",
        "  \n",
        "  w, b = initialize_with_zeros(X.shape[1])\n",
        "\n",
        "  for i in range(epochs):\n",
        "    a = model(X, w, b)  \n",
        "    J = cost_fn(a, y, w, Lambda)\n",
        "    dw, db = backward(X, a, y, w, Lambda)\n",
        "    w -= lr*dw\n",
        "    b -= lr*db\n",
        "    \n",
        "    # Recording the costs\n",
        "    if i % 100 == 0:\n",
        "      J_history.append(J) \n",
        "      \n",
        "  return w, b, J_history "
      ],
      "execution_count": 0,
      "outputs": []
    },
    {
      "cell_type": "code",
      "metadata": {
        "id": "-XhzNyVf0Q9b",
        "colab_type": "code",
        "colab": {}
      },
      "source": [
        "w, b, J_h = train(X_out, y, lr, epochs)"
      ],
      "execution_count": 0,
      "outputs": []
    },
    {
      "cell_type": "markdown",
      "metadata": {
        "id": "9KIvdyFir8Re",
        "colab_type": "text"
      },
      "source": [
        "###Plotting the historical values of the cost function J"
      ]
    },
    {
      "cell_type": "code",
      "metadata": {
        "id": "XC21ucPT9wYY",
        "colab_type": "code",
        "outputId": "38d04d28-b41d-4ac5-971b-36bd30894ce5",
        "colab": {
          "base_uri": "https://localhost:8080/",
          "height": 281
        }
      },
      "source": [
        "plt.plot(J_h)"
      ],
      "execution_count": 0,
      "outputs": [
        {
          "output_type": "execute_result",
          "data": {
            "text/plain": [
              "[<matplotlib.lines.Line2D at 0x7fb5ea069320>]"
            ]
          },
          "metadata": {
            "tags": []
          },
          "execution_count": 313
        },
        {
          "output_type": "display_data",
          "data": {
            "image/png": "[encoded data removed]",
            "text/plain": [
              "<Figure size 432x288 with 1 Axes>"
            ]
          },
          "metadata": {
            "tags": []
          }
        }
      ]
    },
    {
      "cell_type": "markdown",
      "metadata": {
        "id": "UNPSjADBrwWc",
        "colab_type": "text"
      },
      "source": [
        "###Checking the accuracy of the model"
      ]
    },
    {
      "cell_type": "code",
      "metadata": {
        "id": "AxZuvR_K9RQ-",
        "colab_type": "code",
        "colab": {}
      },
      "source": [
        "def predict(X, w, b):\n",
        "  preds = X@w.t() + b\n",
        "  return preds > 0"
      ],
      "execution_count": 0,
      "outputs": []
    },
    {
      "cell_type": "code",
      "metadata": {
        "id": "2MjVv2gmMTY_",
        "colab_type": "code",
        "colab": {}
      },
      "source": [
        "y_preds = predict(X_out, w, b).float()"
      ],
      "execution_count": 0,
      "outputs": []
    },
    {
      "cell_type": "code",
      "metadata": {
        "id": "vqx0CDSvuo5v",
        "colab_type": "code",
        "outputId": "09328e4f-8d58-4193-a10a-8e14ea148689",
        "colab": {
          "base_uri": "https://localhost:8080/",
          "height": 33
        }
      },
      "source": [
        "print(\"train accuracy: {} %\".format(100 - torch.mean(torch.abs(y_preds - y)) * 100))"
      ],
      "execution_count": 0,
      "outputs": [
        {
          "output_type": "stream",
          "text": [
            "train accuracy: 85.59322357177734 %\n"
          ],
          "name": "stdout"
        }
      ]
    },
    {
      "cell_type": "code",
      "metadata": {
        "id": "osm2MuKcbtoX",
        "colab_type": "code",
        "outputId": "b137b291-62df-4169-a358-69ae667e8ae8",
        "colab": {
          "base_uri": "https://localhost:8080/",
          "height": 265
        }
      },
      "source": [
        "plot_decision_boundary(X)"
      ],
      "execution_count": 0,
      "outputs": [
        {
          "output_type": "display_data",
          "data": {
            "image/png": "[encoded data removed]",
            "text/plain": [
              "<Figure size 432x288 with 1 Axes>"
            ]
          },
          "metadata": {
            "tags": []
          }
        }
      ]
    },
    {
      "cell_type": "markdown",
      "metadata": {
        "id": "6sMmh7wONAdy",
        "colab_type": "text"
      },
      "source": [
        "##Applying regularization\n"
      ]
    },
    {
      "cell_type": "code",
      "metadata": {
        "id": "XBIJC3eQjkkh",
        "colab_type": "code",
        "colab": {}
      },
      "source": [
        "lr = 0.06\n",
        "epochs = 50000\n",
        "Lambda = 0.7"
      ],
      "execution_count": 0,
      "outputs": []
    },
    {
      "cell_type": "code",
      "metadata": {
        "id": "j0bba7viY0lm",
        "colab_type": "code",
        "colab": {}
      },
      "source": [
        "w, b, J_h = train(X_out, y, lr, epochs, Lambda)"
      ],
      "execution_count": 0,
      "outputs": []
    },
    {
      "cell_type": "code",
      "metadata": {
        "id": "2dbGx486cdg3",
        "colab_type": "code",
        "outputId": "d9b229cf-8d5a-4011-b73e-26ded4ed642e",
        "colab": {
          "base_uri": "https://localhost:8080/",
          "height": 265
        }
      },
      "source": [
        "plot_decision_boundary(X)"
      ],
      "execution_count": 0,
      "outputs": [
        {
          "output_type": "display_data",
          "data": {
            "image/png": "[encoded data removed]",
            "text/plain": [
              "<Figure size 432x288 with 1 Axes>"
            ]
          },
          "metadata": {
            "tags": []
          }
        }
      ]
    },
    {
      "cell_type": "markdown",
      "metadata": {
        "id": "NqvlM8KPkXrd",
        "colab_type": "text"
      },
      "source": [
        "I have tried dozens of differnt values for the learning rate, epochs and degree hyperparameters and the best accuracy I could get is ~85.6%,\n",
        "given the fact that I did not want to increase the number of epochs even further. Once I decrease the number of epochs to <=100000 accuracy decreases by ~2%. \n",
        "I do relize the number for epochs hyperparameter is pretty high already; however, I could not get the graph looking this way bu using low numbers for epochs. \n",
        "Of course I could get better accuracy if I increased the number of epochs to several hundreds of thousands or the degrees to numbers close to 100; however the computation time would have increased correspondingly.\n",
        "Thus I preferred to keep the numbers as close to reasonable ones for hyperparameters to still get a good accuracy. "
      ]
    }
  ]
}